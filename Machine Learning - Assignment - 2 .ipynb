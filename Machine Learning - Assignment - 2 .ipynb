{
 "cells": [
  {
   "cell_type": "markdown",
   "id": "b153a424",
   "metadata": {},
   "source": [
    "#### Question 1"
   ]
  },
  {
   "cell_type": "code",
   "execution_count": 1,
   "id": "a38a3dc4",
   "metadata": {},
   "outputs": [
    {
     "name": "stdout",
     "output_type": "stream",
     "text": [
      "* \n",
      "* * \n",
      "* * * \n",
      "* * * * \n",
      "* * * * * \n",
      "* * * * \n",
      "* * * \n",
      "* * \n",
      "* \n"
     ]
    }
   ],
   "source": [
    "for i in range(1,5):\n",
    "    #using string repetition operator\n",
    "    print(i*'* ')\n",
    "for i in range(5,0,-1):\n",
    "    # -1 in for loop is the difference between consecutive iterator values\n",
    "    print(i*'* ')"
   ]
  },
  {
   "cell_type": "markdown",
   "id": "c5dfe7e3",
   "metadata": {},
   "source": [
    "#### Question 2"
   ]
  },
  {
   "cell_type": "code",
   "execution_count": 2,
   "id": "97659927",
   "metadata": {},
   "outputs": [
    {
     "name": "stdout",
     "output_type": "stream",
     "text": [
      "20\n",
      "40\n",
      "60\n",
      "80\n",
      "100\n"
     ]
    }
   ],
   "source": [
    "my_list = [10, 20, 30, 40, 50, 60, 70, 80, 90, 100]\n",
    "for i in range(1,len(my_list),2):\n",
    "    # 2 is the increment value\n",
    "    print(my_list[i])"
   ]
  },
  {
   "cell_type": "markdown",
   "id": "b5849ace",
   "metadata": {},
   "source": [
    "#### Question 3"
   ]
  },
  {
   "cell_type": "code",
   "execution_count": 3,
   "id": "6d253c51",
   "metadata": {},
   "outputs": [
    {
     "name": "stdout",
     "output_type": "stream",
     "text": [
      "[<class 'int'>, <class 'str'>, <class 'float'>]\n"
     ]
    }
   ],
   "source": [
    "x = [23, 'Python', 23.98]\n",
    "type_list  = []\n",
    "for ele in x:\n",
    "    type_list.append(type(ele))\n",
    "print(type_list)"
   ]
  },
  {
   "cell_type": "markdown",
   "id": "7ecac365",
   "metadata": {},
   "source": [
    "#### Question 4"
   ]
  },
  {
   "cell_type": "code",
   "execution_count": 4,
   "id": "8ab91137",
   "metadata": {},
   "outputs": [
    {
     "name": "stdout",
     "output_type": "stream",
     "text": [
      "[1, 2, 3, 4, 5]\n"
     ]
    }
   ],
   "source": [
    "def unique(l):\n",
    "    # set method is used to extract the unique elements\n",
    "    return list(set(l))\n",
    "sample_list =  [1,2,3,3,3,3,4,5]\n",
    "unique_list = unique(sample_list)\n",
    "print(unique_list)"
   ]
  },
  {
   "cell_type": "markdown",
   "id": "45df6efb",
   "metadata": {},
   "source": [
    "#### Question 5"
   ]
  },
  {
   "cell_type": "code",
   "execution_count": 5,
   "id": "51c84b56",
   "metadata": {},
   "outputs": [
    {
     "name": "stdout",
     "output_type": "stream",
     "text": [
      "No. of Upper-case characters: 3\n",
      "No. of Lower-case Characters: 12\n"
     ]
    }
   ],
   "source": [
    "def count(s):\n",
    "    # list comprehension and sum method is used to calculate the count\n",
    "    print('No. of Upper-case characters:', sum(1 for c in s if c.isupper()))\n",
    "    print('No. of Lower-case Characters:', sum(1 for c in s if c.islower()))\n",
    "    \n",
    "s = 'The quick Brow Fox'\n",
    "count(s)"
   ]
  }
 ],
 "metadata": {
  "kernelspec": {
   "display_name": "Python 3 (ipykernel)",
   "language": "python",
   "name": "python3"
  },
  "language_info": {
   "codemirror_mode": {
    "name": "ipython",
    "version": 3
   },
   "file_extension": ".py",
   "mimetype": "text/x-python",
   "name": "python",
   "nbconvert_exporter": "python",
   "pygments_lexer": "ipython3",
   "version": "3.9.7"
  }
 },
 "nbformat": 4,
 "nbformat_minor": 5
}
